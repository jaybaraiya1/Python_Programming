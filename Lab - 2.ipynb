{
 "cells": [
  {
   "cell_type": "markdown",
   "metadata": {},
   "source": [
    "\n",
    "<a href='https://www.darshan.ac.in/'> <img src='https://www.darshan.ac.in/Content/media/DU_Logo.svg' width=\"250\" height=\"300\"/></a>\n",
    "<pre>\n",
    "<center><b><h1>Python Programming - 2301CS404</b></center>\n",
    "<center><b><h1>Lab - 2</b></center>   \n",
    "<center><b><h1>Name - Jay Baraiya</b></center> \n",
    "<pre>"
   ]
  },
  {
   "cell_type": "markdown",
   "metadata": {},
   "source": [
    "# if..else.."
   ]
  },
  {
   "cell_type": "markdown",
   "metadata": {},
   "source": [
    "### 01) WAP to check whether the given number is positive or negative."
   ]
  },
  {
   "cell_type": "code",
   "execution_count": null,
   "metadata": {},
   "outputs": [],
   "source": [
    "n=int(input(\"Enter number\"))\n",
    "if(n>0):\n",
    "    print(\"positive \")\n",
    "elif(n<0):\n",
    "    print(\"negative.\")\n",
    "else:\n",
    "    print(\"0\")"
   ]
  },
  {
   "cell_type": "markdown",
   "metadata": {},
   "source": [
    "### 02) WAP to check whether the given number is odd or even."
   ]
  },
  {
   "cell_type": "code",
   "execution_count": 1,
   "metadata": {},
   "outputs": [
    {
     "name": "stdin",
     "output_type": "stream",
     "text": [
      "Enter number 2\n"
     ]
    },
    {
     "name": "stdout",
     "output_type": "stream",
     "text": [
      "even \n"
     ]
    }
   ],
   "source": [
    "n=int(input(\"Enter number\"))\n",
    "if(n%2==0):\n",
    "    print(\"even \")\n",
    "else:\n",
    "    print(\"ode\")"
   ]
  },
  {
   "cell_type": "markdown",
   "metadata": {},
   "source": [
    "### 03) WAP to find out largest number from given two numbers using simple if and ternary operator."
   ]
  },
  {
   "cell_type": "code",
   "execution_count": 7,
   "metadata": {},
   "outputs": [
    {
     "name": "stdin",
     "output_type": "stream",
     "text": [
      "Enter number 2\n",
      "Enter number 3\n"
     ]
    },
    {
     "name": "stdout",
     "output_type": "stream",
     "text": [
      "largest number from given two numbers=a\n"
     ]
    },
    {
     "data": {
      "text/plain": [
       "'a largest'"
      ]
     },
     "execution_count": 7,
     "metadata": {},
     "output_type": "execute_result"
    }
   ],
   "source": [
    "n=int(input(\"Enter number\"))\n",
    "a=int(input(\"Enter number\"))\n",
    "if(n>a):\n",
    "    print(\"largest number from given two numbers=n \")\n",
    "else:\n",
    "    print(\"largest number from given two numbers=a\")\n",
    "    \n",
    "print(\"n largest\") if(n>a) else(\"a largest\")"
   ]
  },
  {
   "cell_type": "markdown",
   "metadata": {},
   "source": [
    "### 04) WAP to find out largest number from given three numbers."
   ]
  },
  {
   "cell_type": "code",
   "execution_count": 5,
   "metadata": {},
   "outputs": [
    {
     "name": "stdin",
     "output_type": "stream",
     "text": [
      "Enter number 3\n",
      "Enter number 2\n",
      "Enter number 1\n"
     ]
    },
    {
     "name": "stdout",
     "output_type": "stream",
     "text": [
      "a=3\n"
     ]
    }
   ],
   "source": [
    "a=int(input(\"Enter number\"))\n",
    "b=int(input(\"Enter number\"))\n",
    "c=int(input(\"Enter number\"))\n",
    "if(a>b and a>c):\n",
    "    print(f\"a={a}\")\n",
    "elif(b>a and b>c):\n",
    "    print(f\"b={b}\")\n",
    "elif(c>a and c>b):\n",
    "    print(f\"c={c}\")\n",
    "else:\n",
    "    print(\"no anser\")"
   ]
  },
  {
   "cell_type": "markdown",
   "metadata": {},
   "source": [
    "### 05) WAP to check whether the given year is leap year or not.\n",
    "[If a year can be divisible by 4 but not divisible by 100 then it is leap year but if it is divisible by 400 then it is leap year]"
   ]
  },
  {
   "cell_type": "code",
   "execution_count": 35,
   "metadata": {},
   "outputs": [
    {
     "name": "stdin",
     "output_type": "stream",
     "text": [
      "Enter year 2000\n"
     ]
    },
    {
     "name": "stdout",
     "output_type": "stream",
     "text": [
      "leap\n"
     ]
    }
   ],
   "source": [
    "a=int(input(\"Enter year\"))\n",
    "if(a%4==0 or a%400==0 and a%100!=0 ):\n",
    "   print(\"leap\")\n",
    "else:\n",
    "    print(\"not leap\")\n"
   ]
  },
  {
   "cell_type": "markdown",
   "metadata": {},
   "source": [
    "### 06) WAP in python to display the name of the day according to the number given by the user."
   ]
  },
  {
   "cell_type": "code",
   "execution_count": 41,
   "metadata": {},
   "outputs": [
    {
     "name": "stdin",
     "output_type": "stream",
     "text": [
      "Enter Number 5\n"
     ]
    },
    {
     "name": "stdout",
     "output_type": "stream",
     "text": [
      "tru\n"
     ]
    }
   ],
   "source": [
    "n=int(input(\"Enter Number\"))\n",
    "match(n):\n",
    "    case 1:\n",
    "        print(\"sunday\")\n",
    "    case 2:\n",
    "        print(\"monday\")\n",
    "    case 3:\n",
    "        print(\"tue\")  \n",
    "    case 4:\n",
    "        print(\"w\")\n",
    "    case 5:\n",
    "        print(\"tru\")\n",
    "    case 6:\n",
    "        print(\"fri\")    \n",
    "    case 7:\n",
    "        print(\"sunday\")\n",
    "     "
   ]
  },
  {
   "cell_type": "markdown",
   "metadata": {},
   "source": [
    "### 07) WAP to implement simple calculator which performs (add,sub,mul,div) of two no. based on user input."
   ]
  },
  {
   "cell_type": "code",
   "execution_count": null,
   "metadata": {},
   "outputs": [],
   "source": [
    "a=int(input(\"Enter Nunmber\"))\n",
    "b=int(input(\"Enter Nunmber\"))\n",
    "print(\"1=+\")\n",
    "print(\"2=-\")\n",
    "print(\"3=*\")\n",
    "print(\"4=/\")\n",
    "n=int(input(\"Enter\"))\n",
    "    match(n):\n",
    "        case 1:\n",
    "            print(a+b)\n",
    "        case 2:\n",
    "            print(a-b)\n",
    "        case 3:\n",
    "            print(a*b)\n",
    "        case 4:\n",
    "            print(a/b)"
   ]
  },
  {
   "cell_type": "markdown",
   "metadata": {},
   "source": [
    "### 08) WAP to read marks of five subjects. Calculate percentage and print class accordingly. \n",
    "Fail below 35 </br>\n",
    "Pass Class between 35 to 45 </br>\n",
    "Second Class</br>\n",
    "between 45 to 60</br>\n",
    "First Class between 60 to 70</br> \n",
    "Distinction if more than 70"
   ]
  },
  {
   "cell_type": "code",
   "execution_count": 50,
   "metadata": {},
   "outputs": [
    {
     "name": "stdin",
     "output_type": "stream",
     "text": [
      "Enter Nunmber 100\n",
      "Enter Nunmber 100\n",
      "Enter Nunmber 100\n",
      "Enter Nunmber 100\n",
      "Enter Nunmber 100\n"
     ]
    },
    {
     "name": "stdout",
     "output_type": "stream",
     "text": [
      "100.0\n",
      "SecondDistinction\n"
     ]
    }
   ],
   "source": [
    "a=int(input(\"Enter Nunmber\"))\n",
    "b=int(input(\"Enter Nunmber\"))\n",
    "c=int(input(\"Enter Nunmber\"))\n",
    "d=int(input(\"Enter Nunmber\"))\n",
    "e=int(input(\"Enter Nunmber\"))\n",
    "p=(a+b+c+d+e)/5\n",
    "print(p)\n",
    "if(p<35):\n",
    "    print(\"Fail\")\n",
    "elif(p<45):\n",
    "    print(\"pass\")\n",
    "elif(p<60):\n",
    "    print(\"Second\")\n",
    "elif(p<70):\n",
    "    print(\"first\")\n",
    "elif(p>70):\n",
    "    print(\"SecondDistinction\")\n",
    "else:\n",
    "    print(\"not\")"
   ]
  },
  {
   "cell_type": "markdown",
   "metadata": {},
   "source": [
    "### 09) Three sides of a triangle are entered through the keyboard, WAP to check whether the triangle is isosceles, equilateral, scalene or right-angled triangle."
   ]
  },
  {
   "cell_type": "code",
   "execution_count": null,
   "metadata": {},
   "outputs": [],
   "source": [
    "a=int(input(\"Enter Nunmber\"))\n",
    "b=int(input(\"Enter Nunmber\"))\n",
    "c=int(input(\"Enter Nunmber\"))\n",
    "d=a*a\n",
    "e=b*b\n",
    "f=c*c\n",
    "g=d+e\n",
    "h=e+f\n",
    "i=f+d\n",
    "if(a==b and a==c):\n",
    "    print(\"equilaterl\")\n",
    "elif(a==b or a==c or b==c):\n",
    "    print(\"isosceles\")\n",
    "elif(g==f or h==d or i==e):\n",
    "    print(\" right-angled triangle.\")\n",
    "elif(a!=b and a!=c or b!=c):\n",
    "    print(\"scalene\")\n",
    "else:\n",
    "     print(\"not a triangle\")\n"
   ]
  },
  {
   "cell_type": "code",
   "execution_count": null,
   "metadata": {},
   "outputs": [],
   "source": []
  },
  {
   "cell_type": "markdown",
   "metadata": {},
   "source": [
    "### 10) WAP to find the second largest number among three user input numbers."
   ]
  },
  {
   "cell_type": "code",
   "execution_count": 8,
   "metadata": {},
   "outputs": [
    {
     "name": "stdin",
     "output_type": "stream",
     "text": [
      "Enter Nunmber 33\n",
      "Enter Nunmber 22\n",
      "Enter Nunmber 11\n"
     ]
    },
    {
     "name": "stdout",
     "output_type": "stream",
     "text": [
      "b is second largest number22\n"
     ]
    }
   ],
   "source": [
    "a=int(input(\"Enter Nunmber\"))\n",
    "b=int(input(\"Enter Nunmber\"))\n",
    "c=int(input(\"Enter Nunmber\"))\n",
    "if(a>b and a>c):\n",
    "    if(b>c):\n",
    "        print(f\"b is second largest number{b}\")\n",
    "    else:\n",
    "        print(f\"c is second largest number{c}\")\n",
    "elif(b>a and b>c):\n",
    "    if(a>c):\n",
    "        print(f\"a is second largest number{a}\")\n",
    "    else:\n",
    "        print(f\"c is second largest number{c}\")\n",
    "elif(c>a and c>b):\n",
    "    if(b>a):\n",
    "        print(f\"b is second largest number{b}\")\n",
    "    else:\n",
    "        print(f\"a is second largest number{a}\")\n",
    "  "
   ]
  },
  {
   "cell_type": "markdown",
   "metadata": {},
   "source": [
    "### 11) WAP to calculate electricity bill based on following criteria. Which takes the unit from the user.\n",
    "a. First 1 to 50 units – Rs. 2.60/unit</br>\n",
    "b. Next 50 to 100 units – Rs. 3.25/unit</br>\n",
    "c. Next 100 to 200 units – Rs. 5.26/unit</br>\n",
    "d. above 200 units – Rs. 8.45/unit"
   ]
  },
  {
   "cell_type": "code",
   "execution_count": 56,
   "metadata": {},
   "outputs": [
    {
     "name": "stdin",
     "output_type": "stream",
     "text": [
      "Enter Nunmber 50\n"
     ]
    },
    {
     "name": "stdout",
     "output_type": "stream",
     "text": [
      "electricity bill=130.0\n"
     ]
    }
   ],
   "source": [
    "a=int(input(\"Enter Nunmber\"))\n",
    "if(a<50):\n",
    "    print(f\"electricity bill={a*2.60}\")\n",
    "elif(a<100):\n",
    "    print(f\"electricity bill={((a-50)*3.25)+(50*2.60)}\")\n",
    "elif(a<200):\n",
    "    print(f\"electricity bill={((a-100)*5.26)+(50*3.25)+(50*2.60)}\")\n",
    "elif(a>200):\n",
    "    print(f\"electricity bill={((a-200)*8.45)+(100*5.26)+(50*3.25)+(50*2.60)}\")\n",
    "else:\n",
    "    print(\"not\")"
   ]
  },
  {
   "cell_type": "code",
   "execution_count": null,
   "metadata": {},
   "outputs": [],
   "source": []
  }
 ],
 "metadata": {
  "kernelspec": {
   "display_name": "Python 3 (ipykernel)",
   "language": "python",
   "name": "python3"
  },
  "language_info": {
   "codemirror_mode": {
    "name": "ipython",
    "version": 3
   },
   "file_extension": ".py",
   "mimetype": "text/x-python",
   "name": "python",
   "nbconvert_exporter": "python",
   "pygments_lexer": "ipython3",
   "version": "3.12.7"
  }
 },
 "nbformat": 4,
 "nbformat_minor": 4
}
